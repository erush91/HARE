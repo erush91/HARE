{
 "cells": [
  {
   "cell_type": "code",
   "execution_count": 3,
   "metadata": {},
   "outputs": [],
   "source": [
    "import numpy as np\n",
    "from numpy import pi\n",
    "import matplotlib.pyplot as plt\n",
    "import os , operator\n",
    "from random import random , randrange\n",
    "from marchhare.Plotting import *\n",
    "\n",
    "# ~~ Constants , Shortcuts , Aliases ~~\n",
    "EPSILON = 1e-7 # Assume floating point errors below this level\n",
    "infty = 1e309 # URL: http://stackoverflow.com/questions/1628026/python-infinity-any-caveats#comment31860436_1628026\n",
    "endl = os.linesep # Line separator\n",
    "pyEq = operator.eq # Default python equality\n",
    "piHalf = pi/2\n",
    "\n",
    "def eq( op1 , op2 ): \n",
    "    \"\"\" Return true if op1 and op2 are close enough \"\"\"\n",
    "    return abs(op1 - op2) <= EPSILON\n",
    "\n",
    "def vec_unit( vec ): \n",
    "    \"\"\" Return a unit vector in the direction of 'vec', using numpy \"\"\"\n",
    "    mag = np.linalg.norm( vec )\n",
    "    return np.divide( vec , 1 if eq( mag , 0 ) else mag )\n",
    "\n",
    "def vec_mag( vec ): \n",
    "    \"\"\" Return the magnitude of a vector \"\"\"\n",
    "    return np.linalg.norm( vec )\n",
    "\n",
    "def vec_dif_mag( vec1 , vec2 ):\n",
    "    \"\"\" Return the magnitude of the vector difference between 'vec1' and 'vec2' \"\"\"\n",
    "    return vec_mag( np.subtract( vec1 , vec2 ) )\n",
    "\n",
    "def vec_linspace( vec1 , vec2 , numPts ):\n",
    "    \"\"\" Return a list of 'numPts' points (vectors) evenly spaced from 'vec1' to 'vec2', inclusive \"\"\"\n",
    "    diff = np.subtract( vec2 , vec1 ) # Vector from point 1 to point 2\n",
    "    direction = vec_unit( diff ) # Direction of the vector between the two\n",
    "    span = vec_mag( diff ) # the Euclidian distance between the two points\n",
    "    ptsList = [] \n",
    "    for value in np.linspace(0, span, num=numPts): # For each value in the range\n",
    "        ptsList.append( np.add( vec1 , # append the sum of the first point and\n",
    "                                np.multiply( direction , # a vector that is an additional space along the difference\n",
    "                                             value ) ) )\n",
    "    return ptsList\n",
    "\n",
    "def vec_random( dim ): \n",
    "    \"\"\" Return a random vector in R-'dim' space with coordinates in [0,1) \"\"\"\n",
    "    rtnVec = []\n",
    "    for i in range(dim):\n",
    "        rtnVec.append( random() )\n",
    "    return rtnVec\n",
    "        \n",
    "def vec_random_range( dim , limLo , limHi ): \n",
    "    \"\"\" Return a vector in which each element takes on a random value between 'limLo' and 'limHi' with a uniform distribution \"\"\"\n",
    "    rtnVec = []\n",
    "    randVec = vec_random( dim )\n",
    "    span = abs( limHi - limLo )\n",
    "    for elem in randVec:\n",
    "        rtnVec.append( elem * span + limLo )\n",
    "    return rtnVec\n",
    "        \n",
    "def add_uni_box_noise( data , noiseOneSide ):\n",
    "    \"\"\" Add random noise in each direction \"\"\"\n",
    "    rtnNoisy = []\n",
    "    dim = len( data[0] )\n",
    "    for datum in data:\n",
    "        rtnNoisy.append( np.add( datum , vec_random_range( dim , -noiseOneSide , noiseOneSide ) ) )\n",
    "    return rtnNoisy\n",
    "    \n",
    "def noisy_segment( vec1 , vec2 , numPts , noiseOneSide ):\n",
    "    \"\"\" Return points perturbed from a line segment \"\"\"\n",
    "    orig = vec_linspace( vec1 , vec2 , numPts )\n",
    "    return add_uni_box_noise( orig , noiseOneSide )\n",
    "\n",
    "def throw_outliers( data , prob , noiseOneSide ):\n",
    "    \"\"\" Perturb each point with 'prob' by a one-sided distance of 'noiseOneSide' in each dimension \"\"\"\n",
    "    rtnData = []\n",
    "    dim = len( data[0] )\n",
    "    for datum in data:\n",
    "        if random() < prob:\n",
    "            rtnData.append( np.add( datum , vec_random_range( dim , -noiseOneSide , noiseOneSide ) ) )\n",
    "        else:\n",
    "            rtnData.append( datum[:] )\n",
    "    return rtnData\n",
    "        \n",
    "    "
   ]
  },
  {
   "cell_type": "code",
   "execution_count": 123,
   "metadata": {},
   "outputs": [],
   "source": [
    "def gen_data( noiseOneSide , outlierWidth ):\n",
    "    rtnData = []\n",
    "#     rtnData.extend( noisy_segment( [ -10 ,  0 ] , [ -10 ,  20 ] , 50 , noiseOneSide ) )\n",
    "    rtnData.extend( noisy_segment( [ -10 , 20 ] , [  10 ,  20 ] , 50 , noiseOneSide ) )\n",
    "#     rtnData.extend( noisy_segment( [  10 , 20 ] , [  10 ,   0 ] , 50 , noiseOneSide ) )\n",
    "    rtnData = throw_outliers( rtnData , 0.20 , outlierWidth )\n",
    "    return rtnData\n",
    "    "
   ]
  },
  {
   "cell_type": "code",
   "execution_count": 169,
   "metadata": {},
   "outputs": [],
   "source": [
    "from math import ceil , sqrt\n",
    "\n",
    "def np_add( *args ):\n",
    "    \"\"\" Perform 'np.add' on more than two args \"\"\"\n",
    "    if len( args ) > 2: # If there are more than 2 args, add the first arg to recur on remainder of args\n",
    "        return np.add( args[0] , np_add( *args[1:] ) ) # Note the star operator is needed for recursive call, unpack to positional args\n",
    "    else: # base case, there are 2 args*, use vanilla 'np.add'\n",
    "        return np.add( args[0] , args[1] ) # *NOTE: This function assumes there are at least two args, if only 1 an error will occur\n",
    "\n",
    "def vec_avg( *vectors ): \n",
    "    \"\"\" Return a vector that is the average of all the 'vectors', equal weighting \"\"\"\n",
    "    vecSum = np_add( *vectors ) # NOTE: This function assumes that all vectors are the same dimensionality\n",
    "    return np.divide( vecSum , len( vectors ) * 1.0 )\n",
    "\n",
    "def d_point_to_segment_2D( point , segment ): \n",
    "    \"\"\" Return the shortest (perpendicular) distance between 'point' and a line 'segment' \"\"\"\n",
    "    # URL: http://mathworld.wolfram.com/Point-LineDistance2-Dimensional.html\n",
    "    segPt1 = segment[0] ; segPt2 = segment[1]\n",
    "    return abs( ( segPt2[0] - segPt1[0] ) * ( segPt1[1] - point[1] ) - \\\n",
    "                ( segPt1[0] - point[0] ) * ( segPt2[1] - segPt1[1] ) ) / sqrt( ( segPt2[0] - segPt1[0] )**2 + ( segPt2[1] - segPt1[1] )**2 )\n",
    "\n",
    "def vec_dif_unt( vec1 , vec2 ):\n",
    "    \"\"\" Return the unit vector difference between 'vec1' and 'vec2' \"\"\"\n",
    "    return vec_unit( np.subtract( vec1 , vec2 ) )\n",
    "\n",
    "def vec_proj( a , b ): \n",
    "    \"\"\" a projected onto b, a scalar length, using numpy \"\"\"\n",
    "    return np.dot(a,b) / np.linalg.norm(b) # Note that the result will be negative if the angle between a and b is > pi/2\n",
    "\n",
    "def dist_beyond_segment( point , segment ):\n",
    "    \"\"\" Return the distance that 'point' lies beyond 'segment' \"\"\"\n",
    "    pnt1 = segment[0] ; pnt2 = segment[1]\n",
    "    dist = 0\n",
    "    # Point 1\n",
    "    xfrmPnt = np.subtract( point , pnt1 )\n",
    "    dirVec  = vec_dif_unt( pnt2 , pnt1 )\n",
    "    dist    = max( dist , -vec_proj( xfrmPnt , dirVec ) )\n",
    "    # Point 2\n",
    "    xfrmPnt = np.subtract( point , pnt2 )\n",
    "    dirVec  = vec_dif_unt( pnt1 , pnt2 )\n",
    "    dist    = max( dist , -vec_proj( xfrmPnt , dirVec ) )\n",
    "    \n",
    "    return dist\n",
    "\n",
    "def score_segment_model( data , segmentFit , distAccept ):\n",
    "    \"\"\" Return the fraction of 'data' that is within perpendicular 'distAccept' of 'segmentFit' \"\"\"\n",
    "    dataLen   = len( data )\n",
    "    numAccept = 0\n",
    "    inliers   = []\n",
    "    for datDex , datum in enumerate( data ):\n",
    "#         dist = d_point_to_segment_2D( datum , segmentFit ) + dist_beyond_segment( datum , segmentFit ) * 0.0\n",
    "        dist = d_point_to_segment_2D( datum , segmentFit )\n",
    "        if dist <= distAccept and dist_beyond_segment( datum , segmentFit ) < 2.0:\n",
    "            numAccept += 1\n",
    "            inliers.append( datDex )\n",
    "    return numAccept / dataLen , inliers\n",
    "\n",
    "def vec_proj_onto( a , b ): \n",
    "    \"\"\" a projected onto b,  vector in the direction of b \"\"\"\n",
    "    return np.multiply( vec_unit( b ) , vec_proj( a , b ) )\n",
    "\n",
    "def segment_2D_RANSAC( data , iterLimit , sampleFrac , distCrit , acceptFrac ):\n",
    "    \"\"\" Attempt to a line segment to noisy data \"\"\"\n",
    "    # The input to the RANSAC algorithm is:\n",
    "    #    a set of observed data values, \n",
    "    #    a way of fitting some kind of model to the observations, \n",
    "    #    and some confidence parameters. \n",
    "    # RANSAC achieves its goal by repeating the following steps:\n",
    "    itNum      = 0\n",
    "    dataLen    = len( data )\n",
    "    mid        = dataLen // 2\n",
    "    bgnRng     = [ 0   , mid+1   ]\n",
    "    endRng     = [ mid , dataLen ]\n",
    "    slcNum     = ceil( dataLen * sampleFrac )\n",
    "#     bestModel  = [ data[0][:] , data[-1][:] ]\n",
    "    bestModel  = [[0,0],[0,0]]\n",
    "#     distAccept = vec_dif_mag( *bestModel ) * distFrac\n",
    "#     bestScore  = score_segment_model( data , bestModel , distAccept )\n",
    "    bestScore  = 0.0\n",
    "    bestDices  = []\n",
    "#     print( bestScore )\n",
    "    while itNum < iterLimit:\n",
    "        \n",
    "        # 1. Select a random subset of the original data. Call this subset the hypothetical inliers.\n",
    "        bgnSmp = []\n",
    "        endSmp = []\n",
    "        for i in range( slcNum ):\n",
    "            bgnSmp.append( data[ randrange( *bgnRng ) ][:] )\n",
    "            endSmp.append( data[ randrange( *endRng ) ][:] )\n",
    "            \n",
    "        # 2. A model is fitted to the set of hypothetical inliers.\n",
    "        bgnPnt   = vec_avg( *bgnSmp )\n",
    "        endPnt   = vec_avg( *endSmp )\n",
    "        model    = [  bgnPnt[:] , endPnt[:] ]\n",
    "        midPnt   = vec_avg( endPnt , bgnPnt )\n",
    "        dirVec12 = vec_dif_unt( endPnt , bgnPnt )\n",
    "        dirVec21 = vec_dif_unt( bgnPnt , endPnt )\n",
    "        bgnPnt   = midPnt\n",
    "        endPnt   = midPnt\n",
    "        \n",
    "        # Extend , Try to find the edges of the inliers (This is splitting model calc a bit)\n",
    "        for i in range( slcNum ):\n",
    "            datum1 = np.subtract( bgnSmp[i] , bgnPnt )\n",
    "            if vec_proj( datum1 , dirVec12 ) < 0:\n",
    "                if d_point_to_segment_2D( bgnSmp[i] , model ) < distCrit:\n",
    "                    bgnPnt = np.add( bgnPnt , vec_proj_onto( datum1 , dirVec12 ) )\n",
    "            datum2 = np.subtract( endSmp[i] , endPnt )\n",
    "            if vec_proj( datum2 , dirVec21 ) < 0:\n",
    "                if d_point_to_segment_2D( endSmp[i] , model ) < distCrit:\n",
    "                    endPnt = np.add( endPnt , vec_proj_onto( datum2 , dirVec21 ) )\n",
    "            \n",
    "        # 3. All other data are then tested against the fitted model. \n",
    "        #    Those points that fit the estimated model well, according to some model-specific loss function, \n",
    "        #    are considered as part of the consensus set.\n",
    "#         distAccept = vec_dif_mag( bgnPnt , endPnt ) * distFrac\n",
    "        score , inliers = score_segment_model( data , [ bgnPnt , endPnt ] , distCrit )\n",
    "#         print( score )\n",
    "        # 3.5. We must return a model\n",
    "        if score > bestScore:\n",
    "            bestModel = [ bgnPnt , endPnt ]\n",
    "            bestScore = score\n",
    "            bestDices = inliers\n",
    "        # 4. The estimated model is reasonably good if sufficiently many points have been classified as part of the consensus set.\n",
    "        if bestScore >= acceptFrac:\n",
    "            print( \"EARLY EXIT\" ) \n",
    "            break\n",
    "        # 5. Afterwards, the model may be improved by reestimating it using all members of the consensus set.\n",
    "        # FIXME : IMPROVE?\n",
    "        itNum += 1\n",
    "    return bestModel , inliers\n",
    "    "
   ]
  },
  {
   "cell_type": "code",
   "execution_count": 196,
   "metadata": {},
   "outputs": [
    {
     "data": {
      "text/plain": [
       "<matplotlib.collections.PathCollection at 0x7fd17a962b70>"
      ]
     },
     "execution_count": 196,
     "metadata": {},
     "output_type": "execute_result"
    },
    {
     "data": {
      "image/png": "[encoded data removed]",
      "text/plain": [
       "<Figure size 432x288 with 1 Axes>"
      ]
     },
     "metadata": {
      "needs_background": "light"
     },
     "output_type": "display_data"
    }
   ],
   "source": [
    "nsyDat = gen_data( 1.75 , 10 )\n",
    "X,Y = split_to_2D( nsyDat )\n",
    "plt.axis('equal')\n",
    "plt.scatter(X,Y)"
   ]
  },
  {
   "cell_type": "code",
   "execution_count": 197,
   "metadata": {},
   "outputs": [
    {
     "name": "stdout",
     "output_type": "stream",
     "text": [
      "EARLY EXIT\n",
      "[array([-11.0269618 ,  20.55465163]), array([ 9.27530661, 20.19603437])]\n"
     ]
    },
    {
     "data": {
      "text/plain": [
       "[<matplotlib.lines.Line2D at 0x7fd17a938390>]"
      ]
     },
     "execution_count": 197,
     "metadata": {},
     "output_type": "execute_result"
    },
    {
     "data": {
      "image/png": "[encoded data removed]",
      "text/plain": [
       "<Figure size 432x288 with 1 Axes>"
      ]
     },
     "metadata": {
      "needs_background": "light"
     },
     "output_type": "display_data"
    }
   ],
   "source": [
    "model , inliers = segment_2D_RANSAC( nsyDat , 50 , 0.15 , 1.4 , 0.70 )\n",
    "print( model )\n",
    "\n",
    "X,Y = split_to_2D( nsyDat )\n",
    "modX,modY = split_to_2D( model )\n",
    "# plt.hold()\n",
    "plt.axis('equal')\n",
    "plt.scatter(X,Y)\n",
    "plt.plot(modX,modY)\n",
    "# plt.hold()"
   ]
  },
  {
   "cell_type": "code",
   "execution_count": null,
   "metadata": {},
   "outputs": [],
   "source": []
  },
  {
   "cell_type": "code",
   "execution_count": null,
   "metadata": {},
   "outputs": [],
   "source": []
  },
  {
   "cell_type": "code",
   "execution_count": null,
   "metadata": {},
   "outputs": [],
   "source": []
  }
 ],
 "metadata": {
  "kernelspec": {
   "display_name": "Python 3",
   "language": "python",
   "name": "python3"
  },
  "language_info": {
   "codemirror_mode": {
    "name": "ipython",
    "version": 3
   },
   "file_extension": ".py",
   "mimetype": "text/x-python",
   "name": "python",
   "nbconvert_exporter": "python",
   "pygments_lexer": "ipython3",
   "version": "3.5.2"
  }
 },
 "nbformat": 4,
 "nbformat_minor": 2
}
